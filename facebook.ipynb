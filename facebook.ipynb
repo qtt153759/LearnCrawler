{
 "cells": [
  {
   "cell_type": "code",
   "execution_count": 112,
   "id": "557e86fe",
   "metadata": {},
   "outputs": [
    {
     "name": "stderr",
     "output_type": "stream",
     "text": [
      "/tmp/ipykernel_32620/1498125074.py:12: DeprecationWarning: executable_path has been deprecated, please pass in a Service object\n",
      "  driver = webdriver.Chrome(executable_path=PATH,chrome_options=option1)\n",
      "/tmp/ipykernel_32620/1498125074.py:12: DeprecationWarning: use options instead of chrome_options\n",
      "  driver = webdriver.Chrome(executable_path=PATH,chrome_options=option1)\n"
     ]
    }
   ],
   "source": [
    "import selenium\n",
    "from selenium import webdriver\n",
    "from selenium.webdriver.common.by import By\n",
    "from selenium.webdriver.common.keys import Keys\n",
    "from selenium.webdriver.chrome.options import Options\n",
    "from time import sleep\n",
    "import getpass\n",
    "\n",
    "PATH = \"/home/truong/chromedriver\"\n",
    "option1=Options()\n",
    "option1.add_argument(\"--disable-notifications\")\n",
    "driver = webdriver.Chrome(executable_path=PATH,chrome_options=option1)\n",
    "driver.get(\"https://www.facebook.com/\")\n",
    "driver.maximize_window()"
   ]
  },
  {
   "cell_type": "code",
   "execution_count": 113,
   "id": "ed2742b2",
   "metadata": {},
   "outputs": [],
   "source": [
    "loginId = \"\"\n",
    "my_password = getpass.getpass()\n"
   ]
  },
  {
   "cell_type": "code",
   "execution_count": 114,
   "id": "96a24b49",
   "metadata": {},
   "outputs": [],
   "source": [
    "user_name = driver.find_element(By.XPATH,\"//input[@type='text']\")\n",
    "user_name.send_keys(loginId)\n",
    "\n",
    "password = driver.find_element(By.XPATH,\"//input[@placeholder='Password']\")\n",
    "password.send_keys(my_password)"
   ]
  },
  {
   "cell_type": "code",
   "execution_count": 115,
   "id": "4765c41c",
   "metadata": {},
   "outputs": [],
   "source": [
    "log_in_button = driver.find_element(By.XPATH,\"//button[@type='submit']\")\n",
    "log_in_button.click()\n",
    "sleep(5)"
   ]
  },
  {
   "cell_type": "code",
   "execution_count": 116,
   "id": "36652e97",
   "metadata": {},
   "outputs": [],
   "source": [
    "my_profile = driver.find_element(By.XPATH,\"//span[text()='Quách Thế Trường']\")\n",
    "my_profile.click()\n",
    "sleep(3)#\"getpass.getpass()\""
   ]
  },
  {
   "cell_type": "code",
   "execution_count": 117,
   "id": "a0f8a335",
   "metadata": {},
   "outputs": [],
   "source": [
    "friendsTab = driver.get(driver.current_url+'/friends')\n",
    "sleep(5)"
   ]
  },
  {
   "cell_type": "code",
   "execution_count": 118,
   "id": "debb7673",
   "metadata": {},
   "outputs": [],
   "source": [
    "friendsList = set()\n",
    "\n",
    "my_friend = driver.find_elements(By.XPATH,\"//div[@class='x1iyjqo2 x1pi30zi']\")\n",
    "while True:\n",
    "    for friend in my_friend:\n",
    "        friendsList.add(friend.text)\n",
    "    driver.execute_script('window.scrollTo(0, document.body.scrollHeight);')\n",
    "    sleep(10)\n",
    "    my_friend = driver.find_elements(By.XPATH,\"//div[@class='x1iyjqo2 x1pi30zi']\")\n",
    "    if len(set(friendsList)) > 50:\n",
    "        break\n"
   ]
  },
  {
   "cell_type": "code",
   "execution_count": 119,
   "id": "27a9936e",
   "metadata": {},
   "outputs": [
    {
     "data": {
      "text/plain": [
       "64"
      ]
     },
     "execution_count": 119,
     "metadata": {},
     "output_type": "execute_result"
    }
   ],
   "source": [
    "len(friendsList)\n"
   ]
  },
  {
   "cell_type": "code",
   "execution_count": 120,
   "id": "6d994862",
   "metadata": {},
   "outputs": [
    {
     "data": {
      "text/plain": [
       "(104, 2)"
      ]
     },
     "execution_count": 120,
     "metadata": {},
     "output_type": "execute_result"
    }
   ],
   "source": [
    "import pandas as pd\n",
    "import numpy as np\n",
    "\n",
    "df = pd.DataFrame(friendsList,columns=['names'])\n",
    "# df.head()\n",
    "df_new[['name','count']] = df['names'].str.split(\"\\n\",expand=True)\n",
    "df_final = df_new[['name','count']]\n",
    "df_final.shape"
   ]
  },
  {
   "cell_type": "code",
   "execution_count": 126,
   "id": "a482bcdf",
   "metadata": {},
   "outputs": [
    {
     "data": {
      "text/html": [
       "<div>\n",
       "<style scoped>\n",
       "    .dataframe tbody tr th:only-of-type {\n",
       "        vertical-align: middle;\n",
       "    }\n",
       "\n",
       "    .dataframe tbody tr th {\n",
       "        vertical-align: top;\n",
       "    }\n",
       "\n",
       "    .dataframe thead th {\n",
       "        text-align: right;\n",
       "    }\n",
       "</style>\n",
       "<table border=\"1\" class=\"dataframe\">\n",
       "  <thead>\n",
       "    <tr style=\"text-align: right;\">\n",
       "      <th></th>\n",
       "      <th>name</th>\n",
       "      <th>count</th>\n",
       "    </tr>\n",
       "  </thead>\n",
       "  <tbody>\n",
       "    <tr>\n",
       "      <th>0</th>\n",
       "      <td>Phạm Văn Hùng</td>\n",
       "      <td>23 mutual friends</td>\n",
       "    </tr>\n",
       "    <tr>\n",
       "      <th>1</th>\n",
       "      <td>Tran Tuyet Trinh</td>\n",
       "      <td>54 mutual friends</td>\n",
       "    </tr>\n",
       "    <tr>\n",
       "      <th>2</th>\n",
       "      <td>Chu Việt</td>\n",
       "      <td>47 mutual friends</td>\n",
       "    </tr>\n",
       "    <tr>\n",
       "      <th>3</th>\n",
       "      <td>Lê Đình Khoa</td>\n",
       "      <td>10 mutual friends</td>\n",
       "    </tr>\n",
       "    <tr>\n",
       "      <th>4</th>\n",
       "      <td>Kiều Đăng Minh</td>\n",
       "      <td>59 mutual friends</td>\n",
       "    </tr>\n",
       "    <tr>\n",
       "      <th>...</th>\n",
       "      <td>...</td>\n",
       "      <td>...</td>\n",
       "    </tr>\n",
       "    <tr>\n",
       "      <th>65</th>\n",
       "      <td>NaN</td>\n",
       "      <td>NaN</td>\n",
       "    </tr>\n",
       "    <tr>\n",
       "      <th>66</th>\n",
       "      <td>NaN</td>\n",
       "      <td>NaN</td>\n",
       "    </tr>\n",
       "    <tr>\n",
       "      <th>67</th>\n",
       "      <td>NaN</td>\n",
       "      <td>NaN</td>\n",
       "    </tr>\n",
       "    <tr>\n",
       "      <th>68</th>\n",
       "      <td>NaN</td>\n",
       "      <td>NaN</td>\n",
       "    </tr>\n",
       "    <tr>\n",
       "      <th>69</th>\n",
       "      <td>NaN</td>\n",
       "      <td>NaN</td>\n",
       "    </tr>\n",
       "  </tbody>\n",
       "</table>\n",
       "<p>70 rows × 2 columns</p>\n",
       "</div>"
      ],
      "text/plain": [
       "                name              count\n",
       "0      Phạm Văn Hùng  23 mutual friends\n",
       "1   Tran Tuyet Trinh  54 mutual friends\n",
       "2           Chu Việt  47 mutual friends\n",
       "3       Lê Đình Khoa  10 mutual friends\n",
       "4     Kiều Đăng Minh  59 mutual friends\n",
       "..               ...                ...\n",
       "65               NaN                NaN\n",
       "66               NaN                NaN\n",
       "67               NaN                NaN\n",
       "68               NaN                NaN\n",
       "69               NaN                NaN\n",
       "\n",
       "[70 rows x 2 columns]"
      ]
     },
     "execution_count": 126,
     "metadata": {},
     "output_type": "execute_result"
    }
   ],
   "source": [
    "df_final.head(70)"
   ]
  },
  {
   "cell_type": "code",
   "execution_count": null,
   "id": "1282c54d",
   "metadata": {},
   "outputs": [],
   "source": []
  },
  {
   "cell_type": "code",
   "execution_count": null,
   "id": "77270af2",
   "metadata": {},
   "outputs": [],
   "source": []
  },
  {
   "cell_type": "code",
   "execution_count": null,
   "id": "18937a87",
   "metadata": {},
   "outputs": [],
   "source": []
  },
  {
   "cell_type": "code",
   "execution_count": null,
   "id": "cb518534",
   "metadata": {},
   "outputs": [],
   "source": []
  },
  {
   "cell_type": "code",
   "execution_count": null,
   "id": "ba3ffb3e",
   "metadata": {},
   "outputs": [],
   "source": []
  },
  {
   "cell_type": "code",
   "execution_count": null,
   "id": "0e63a699",
   "metadata": {},
   "outputs": [],
   "source": []
  },
  {
   "cell_type": "code",
   "execution_count": null,
   "id": "9716f013",
   "metadata": {},
   "outputs": [],
   "source": []
  }
 ],
 "metadata": {
  "kernelspec": {
   "display_name": "Python 3.8.10 64-bit",
   "language": "python",
   "name": "python3"
  },
  "language_info": {
   "codemirror_mode": {
    "name": "ipython",
    "version": 3
   },
   "file_extension": ".py",
   "mimetype": "text/x-python",
   "name": "python",
   "nbconvert_exporter": "python",
   "pygments_lexer": "ipython3",
   "version": "3.8.10"
  },
  "vscode": {
   "interpreter": {
    "hash": "916dbcbb3f70747c44a77c7bcd40155683ae19c65e1c03b4aa3499c5328201f1"
   }
  }
 },
 "nbformat": 4,
 "nbformat_minor": 5
}
