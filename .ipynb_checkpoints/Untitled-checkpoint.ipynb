{
 "cells": [
  {
   "cell_type": "code",
   "execution_count": 10,
   "id": "e244703a",
   "metadata": {},
   "outputs": [
    {
     "name": "stderr",
     "output_type": "stream",
     "text": [
      "/tmp/ipykernel_6493/2499892202.py:12: DeprecationWarning: executable_path has been deprecated, please pass in a Service object\n",
      "  driver = webdriver.Chrome(executable_path=PATH,chrome_options=option1)\n",
      "/tmp/ipykernel_6493/2499892202.py:12: DeprecationWarning: use options instead of chrome_options\n",
      "  driver = webdriver.Chrome(executable_path=PATH,chrome_options=option1)\n"
     ]
    }
   ],
   "source": [
    "import selenium\n",
    "from selenium import webdriver\n",
    "from selenium.webdriver.common.by import By\n",
    "from selenium.webdriver.common.keys import Keys\n",
    "from selenium.webdriver.chrome.options import Options\n",
    "from time import sleep\n",
    "import getpass\n",
    "\n",
    "PATH = \"/home/truong/chromedriver\"\n",
    "option1=Options()\n",
    "option1.add_argument(\"--disable-notifications\")\n",
    "driver = webdriver.Chrome(executable_path=PATH,chrome_options=option1)\n",
    "driver.get(\"https://shopee.vn/Thi%E1%BA%BFt-B%E1%BB%8B-%C4%90i%E1%BB%87n-T%E1%BB%AD-cat.11036132\")\n",
    "driver.maximize_window()"
   ]
  },
  {
   "cell_type": "code",
   "execution_count": 11,
   "id": "f9be8ba3",
   "metadata": {},
   "outputs": [
    {
     "name": "stdout",
     "output_type": "stream",
     "text": [
      "https://shopee.vn/Tai-nghe-ch%E1%BB%A5p-tai-kh%C3%B4ng-d%C3%A2y-bluetooth-STN28-m%C3%A0u-s%E1%BA%AFc-cute-%C3%A2m-thanh-%E1%BA%A5m-bass-m%E1%BA%A1nh-Ph%E1%BB%A5-Ki%E1%BB%87n-123-i.304853378.4466113256?sp_atk=3e78885c-0676-41d7-9e1f-3b2fdc874836&xptdk=3e78885c-0676-41d7-9e1f-3b2fdc874836\n",
      "https://shopee.vn/Loa-bluetooth-mini-kh%C3%B4ng-d%C3%A2y-nghe-nh%E1%BA%A1c-c%E1%BA%AFm-usb-th%E1%BA%BB-nh%E1%BB%9B-%C4%91a-n%C4%83ng-c%C3%B3-%C4%91%C3%A8n-led-ch%C3%ADnh-h%C3%A3ng-MINPRO-i.394963411.17470212612?sp_atk=0902aceb-f359-42f9-99a0-b2597823355b&xptdk=0902aceb-f359-42f9-99a0-b2597823355b\n",
      "https://shopee.vn/%C4%90%E1%BB%93ng-h%E1%BB%93-%C4%91%C3%B4i-%C4%90i%E1%BB%87n-T%E1%BB%AD-Th%E1%BB%83-Thao-Th%C3%B4ng-Minh-B%E1%BA%B1ng-Silicon-C%C3%B3-%C4%90%C3%A8n-LED-Th%E1%BB%9Di-Trang-Cho-Nam-V%C3%A0-N%E1%BB%AF-i.821816160.21527023571?sp_atk=21127659-e6c6-47bc-b348-f4df31d84c97&xptdk=21127659-e6c6-47bc-b348-f4df31d84c97\n",
      "https://shopee.vn/Qu%E1%BA%A1t-t%E1%BA%A3n-nhi%E1%BB%87t-G6-L%C3%A0m-m%C3%A1t-%C4%91i%E1%BB%87n-tho%E1%BA%A1i-Ph%E1%BB%A5-ki%E1%BB%87n-ch%C6%A1i-game-Pubg-Mobile-gi%C3%A1-r%E1%BA%BB-cho-%C4%91i%E1%BB%87n-tho%E1%BA%A1i-di-%C4%91%E1%BB%99ng-b%E1%BA%A3o-h%C3%A0nh-12-th%C3%A1ng-i.232085619.18251612533?sp_atk=e588cf5d-a66a-4c5a-aa55-4445858023f7&xptdk=e588cf5d-a66a-4c5a-aa55-4445858023f7\n",
      "https://shopee.vn/Tai-nghe-bluetooth-5.0-True-Wireless-Amoi-F9-Pro-b%E1%BA%A3n-qu%E1%BB%91c-t%E1%BA%BF-cao-c%E1%BA%A5p-c%E1%BA%A3m-bi%E1%BA%BFn-v%C3%A2n-tay-ki%C3%AAm-s%E1%BA%A1c-d%E1%BB%B1-ph%C3%B2ng-i.222814609.13996539492?sp_atk=7bac0271-c955-4616-b0ea-81943e408a0e&xptdk=7bac0271-c955-4616-b0ea-81943e408a0e\n",
      "https://shopee.vn/B%E1%BB%99-chuy%E1%BB%83n-%C3%A2m-thanh-quang-Optical-sang-AV-h%C3%A3ng-Choseal-B%E1%BA%A3n-cao-c%E1%BA%A5p-(-t%E1%BA%B7ng-d%C3%A2y-quang-d%C3%A0i-1m-)-i.28103128.7506698218?sp_atk=7a41055d-f5e8-44c6-8599-caf2ae7a110b&xptdk=7a41055d-f5e8-44c6-8599-caf2ae7a110b\n",
      "https://shopee.vn/%C4%90%E1%BB%93ng-H%E1%BB%93-Th%C3%B4ng-Minh-Y68-D20-Fitpro-IP67-Ch%E1%BB%91ng-Th%E1%BA%A5m-N%C6%B0%E1%BB%9Bc-1.44-i.752119753.20230691171?sp_atk=9cbe7795-ce3f-493c-b32d-0be4ba7804e0&xptdk=9cbe7795-ce3f-493c-b32d-0be4ba7804e0\n",
      "https://shopee.vn/Set-2-G%C4%83ng-%C4%90eo-Ng%C3%B3n-Tay-Ch%E1%BB%91ng-M%E1%BB%93-H%C3%B4i-Khi-Ch%C6%A1i-Game-PUBG-Tr%C3%AAn-%C4%90i%E1%BB%87n-Tho%E1%BA%A1i-M%C3%A1y-T%C3%ADnh-B%E1%BA%A3ng-i.233700206.19825790674?sp_atk=ed878d29-abc3-4628-a5a2-3baac9dbea78&xptdk=ed878d29-abc3-4628-a5a2-3baac9dbea78\n",
      "https://shopee.vn/Tai-nghe-Bluetooth-kh%C3%B4ng-d%C3%A2y-5.0-MINPRO-AMOI-F9-PRO-n%C3%BAt-c%E1%BA%A3m-bi%E1%BA%BFn-v%C3%A2n-tay-ch%E1%BB%91ng-n%C6%B0%E1%BB%9Bc-k%C3%A8m-s%E1%BA%A1c-2.000mAh-i.394963411.11598054765?sp_atk=fdef7ea0-0ce8-429d-876c-4b6fb8f6e03e&xptdk=fdef7ea0-0ce8-429d-876c-4b6fb8f6e03e\n",
      "https://shopee.vn/Gi%C3%A1-treo-tivi-c%E1%BB%91-%C4%91%E1%BB%8Bnh-h%E1%BB%97-tr%E1%BB%A3-k%C3%ADch-th%C6%B0%E1%BB%9Bc-TV-14-65-inch-%C4%91i-k%C3%A8m-%E1%BB%91c-v%C3%ADt-i.407509533.8829444691?sp_atk=0234a873-392e-42d3-a71f-44642e58ba67&xptdk=0234a873-392e-42d3-a71f-44642e58ba67\n",
      "https://shopee.vn/-B%C3%81N-GI%C3%81-G%E1%BB%90C-Loa-Bluetooth-CH%C3%8DNH-H%C3%83NG-SC211-%C3%82m-Thanh-Si%C3%AAu-Tr%E1%BA%A7m-i.170887396.4016737600?sp_atk=c331ca05-c43a-4258-b8c0-d085971a3bb5&xptdk=c331ca05-c43a-4258-b8c0-d085971a3bb5\n",
      "https://shopee.vn/Bao-tay-cho%CC%9Bi-game-Sonit%EF%BC%8CCh%E1%BB%91ng-M%E1%BB%93-H%C3%B4i-H%E1%BB%97-Tr%E1%BB%A3-Ch%C6%A1i-game-Tr%C3%AAn-%C4%90i%E1%BB%87n-Tho%E1%BA%A1i-i.618905470.19712842592?sp_atk=a439071c-82e5-424e-8233-666a81c1fcb7&xptdk=a439071c-82e5-424e-8233-666a81c1fcb7\n",
      "https://shopee.vn/Tai-Nghe-Bluetooth-M10-Pro-Tai-Nghe-Kh%C3%B4ng-M10-Pro-Phi%C3%AAn-B%E1%BA%A3n-N%C3%A2ng-C%E1%BA%A5p-Pin-Tr%C3%A2u-N%C3%BAt-C%E1%BA%A3m-%E1%BB%A8ng-T%E1%BB%B1-%C4%90%E1%BB%99ng-K%E1%BA%BFt-N%E1%BB%91i-BINTECH-i.222814609.18650023710?sp_atk=7011da49-4898-43f0-af02-8690b167bb24&xptdk=7011da49-4898-43f0-af02-8690b167bb24\n",
      "https://shopee.vn/D%C3%A2y-%C4%90eo-Thay-Th%E1%BA%BF-5-M%C3%A0u-B%E1%BA%B1ng-Silicon-M%E1%BB%81m-Cho-%C4%90%E1%BB%93ng-H%E1%BB%93-Th%C3%B4ng-Minh-Apple-Watch-Ultla-Series-8-7-6-SE-5-4-3-2-1-i.85966527.16114068715?sp_atk=4b1fc783-88dc-498a-bafc-4a5ec427b894&xptdk=4b1fc783-88dc-498a-bafc-4a5ec427b894\n",
      "https://shopee.vn/Loa-M%C3%A1y-T%C3%ADnh-Loa-%C4%90%E1%BB%83-B%C3%A0n-Mini-Nh%E1%BB%8F-G%E1%BB%8Dn-%C3%82m-Thanh-V%C6%B0%E1%BB%A3t-Tr%E1%BB%99i-Loa-vi-t%C3%ADnh-bass-hay-LMT01-i.478929960.8973255943?sp_atk=a40c6630-b5ba-4942-9dcd-4c28f2442ad7&xptdk=a40c6630-b5ba-4942-9dcd-4c28f2442ad7\n",
      "https://shopee.vn/Bao-Tay-Ch%C6%A1i-Game-ff-Pubg-Li%C3%AAn-Qu%C3%A2n....-G%C4%83ng-tay-ch%C6%A1i-game-Ch%E1%BB%91ng-M%E1%BB%93-H%C3%B4i-Co-Gi%C3%A3n-C%E1%BB%B1c-T%E1%BB%91t-i.618266867.12658908557?sp_atk=14d33348-8a4c-4cda-b127-6c63cc47571f&xptdk=14d33348-8a4c-4cda-b127-6c63cc47571f\n",
      "https://shopee.vn/Tai-Nghe-Bluetooth-Kh%C3%B4ng-D%C3%A2y-i7S-TWS-i.451212855.21032123850?sp_atk=1cfe8395-cdc0-4327-a6a7-95ad33bb73f7&xptdk=1cfe8395-cdc0-4327-a6a7-95ad33bb73f7\n",
      "https://shopee.vn/D%C3%A2y-%C4%90eo-Thay-Th%E1%BA%BF-B%E1%BA%B1ng-Silicone-Cho-Xiaomi-Mi-Band-3-4-3-4-i.231164390.17919025554?sp_atk=446cceb8-0aa6-4fed-a9ac-1a894f4b8abb&xptdk=446cceb8-0aa6-4fed-a9ac-1a894f4b8abb\n",
      "https://shopee.vn/(MI%E1%BB%84N-SHIP-TO%C3%80N-QU%E1%BB%90C)-X%E1%BA%A2-H%E1%BA%BET-KHO)-micro-cho-m%E1%BB%8Di-lo%E1%BA%A1i-loa-MICRO-CHO-LOA-K%C3%89O-BLUETOOTH-P88-P89-MICRO-d%C3%A0n-i.697521605.15190730746?sp_atk=c5607faf-50db-4996-a470-1352bdb44137&xptdk=c5607faf-50db-4996-a470-1352bdb44137\n",
      "https://shopee.vn/Micro-c%C3%B3-d%C3%A2y-karaoke-jack-6.5mm-nh%E1%BB%8F-g%E1%BB%8Dn-d%C3%B9ng-cho-loa-bluetooth-loa-di-%C4%91%E1%BB%99ng-i.74300615.7881192650?sp_atk=5f46bed0-9323-4539-9f77-d8acfe89f1e6&xptdk=5f46bed0-9323-4539-9f77-d8acfe89f1e6\n",
      "https://shopee.vn/Tai-Nghe-Gaming-X15-Bluetooth-5.1-Kh%C3%B4ng-D%C3%A2y-Gi%E1%BA%A3m-Ti%E1%BA%BFng-%E1%BB%92n-C%E1%BA%A3m-%E1%BB%A8ng-%C4%90i%E1%BB%81u-Khi%E1%BB%83n-V%C3%A2n-Tay-%C3%82m-Thanh-Hifi-9D-Cho-Android-i.53118009.21035621256?sp_atk=8d5bf72d-58db-4eb6-b4f5-70cfdbd67bdb&xptdk=8d5bf72d-58db-4eb6-b4f5-70cfdbd67bdb\n",
      "https://shopee.vn/B%E1%BB%99-b%E1%BA%A3o-v%E1%BB%87-c%C3%A1p-s%E1%BA%A1c-c%E1%BB%A7-s%E1%BA%A1c-s%E1%BB%AD-d%E1%BB%A5ng-cho-for-Apple-12-for-iPhone14-Pro-Max-13-Pro-Max-12-11promax-18W-20W-i.111008228.10480471166?sp_atk=c2227aff-2fda-4a7f-97e0-12ec691e7548&xptdk=c2227aff-2fda-4a7f-97e0-12ec691e7548\n",
      "https://shopee.vn/Loa-m%C3%A1y-t%C3%ADnh-laptop-vi-t%C3%ADnh-mini-MC-V-128-%C3%A2m-Bass-Tr%E1%BA%A7m-n%E1%BB%95i-loa-di-%C4%91%E1%BB%99ng-Eagle-Eye-d%C3%B9ng-cho-gi%E1%BA%AFc-c%E1%BA%AFm-%C3%A2m-thanh-3.5MM-i.228841194.9166684648?sp_atk=8c7fbee7-8be8-4348-8299-fdb8ee8837d2&xptdk=8c7fbee7-8be8-4348-8299-fdb8ee8837d2\n",
      "https://shopee.vn/%E1%BB%90p-h%E1%BB%99p-s%E1%BA%A1c-tai-nghe-kh%C3%B4ng-d%C3%A2y-silicon-ch%E1%BB%91ng-s%E1%BB%91c-cho-Airpods-1-2-i.129732304.7791390740?sp_atk=ec648a2d-144e-43d3-b8cd-76c14aad47a8&xptdk=ec648a2d-144e-43d3-b8cd-76c14aad47a8\n",
      "https://shopee.vn/Tai-Nghe-Bluetooth-Kh%C3%B4ng-D%C3%A2y-TWS-12-M%C3%A0u-S%E1%BA%AFc-K%C3%A8m-H%E1%BB%99p-S%E1%BA%A1c-i.178575628.18328630050?sp_atk=0916a755-c142-463e-9052-ca3af5f9d365&xptdk=0916a755-c142-463e-9052-ca3af5f9d365\n",
      "25\n"
     ]
    }
   ],
   "source": [
    "shopeeList = set()\n",
    "\n",
    "driver.execute_script('window.scrollTo(0, 2000);')\n",
    "sleep(5)\n",
    "driver.execute_script('window.scrollTo(0, 2000);')\n",
    "sleep(5)\n",
    "driver.execute_script('window.scrollTo(0, 2000);')\n",
    "sleep(5)\n",
    "itemList = driver.find_elements(By.XPATH,\"//a[@data-sqe='link']\")\n",
    "for item in itemList:\n",
    "    print(item.get_attribute('href'))\n",
    "    shopeeList.add(item.get_attribute('href'))\n",
    "    \n",
    "print(len(shopeeList))"
   ]
  },
  {
   "cell_type": "code",
   "execution_count": null,
   "id": "4a364201",
   "metadata": {},
   "outputs": [],
   "source": [
    "shopeeList\n"
   ]
  },
  {
   "cell_type": "code",
   "execution_count": null,
   "id": "e9c407f7",
   "metadata": {},
   "outputs": [],
   "source": []
  }
 ],
 "metadata": {
  "kernelspec": {
   "display_name": "Python 3 (ipykernel)",
   "language": "python",
   "name": "python3"
  },
  "language_info": {
   "codemirror_mode": {
    "name": "ipython",
    "version": 3
   },
   "file_extension": ".py",
   "mimetype": "text/x-python",
   "name": "python",
   "nbconvert_exporter": "python",
   "pygments_lexer": "ipython3",
   "version": "3.8.10"
  }
 },
 "nbformat": 4,
 "nbformat_minor": 5
}
