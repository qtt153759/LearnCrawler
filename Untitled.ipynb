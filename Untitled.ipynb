{
 "cells": [
  {
   "cell_type": "code",
   "execution_count": 20,
   "id": "e244703a",
   "metadata": {},
   "outputs": [
    {
     "name": "stderr",
     "output_type": "stream",
     "text": [
      "/tmp/ipykernel_6493/1564531315.py:12: DeprecationWarning: executable_path has been deprecated, please pass in a Service object\n",
      "  driver = webdriver.Chrome(executable_path=PATH,chrome_options=option1)\n",
      "/tmp/ipykernel_6493/1564531315.py:12: DeprecationWarning: use options instead of chrome_options\n",
      "  driver = webdriver.Chrome(executable_path=PATH,chrome_options=option1)\n"
     ]
    }
   ],
   "source": [
    "import selenium\n",
    "from selenium import webdriver\n",
    "from selenium.webdriver.common.by import By\n",
    "from selenium.webdriver.common.keys import Keys\n",
    "from selenium.webdriver.chrome.options import Options\n",
    "from time import sleep\n",
    "import getpass\n",
    "\n",
    "PATH = \"/home/truong/chromedriver\"\n",
    "option1=Options()\n",
    "option1.add_argument(\"--disable-notifications\")\n",
    "driver = webdriver.Chrome(executable_path=PATH,chrome_options=option1)\n",
    "driver.get(\"https://shopee.vn/Thi%E1%BA%BFt-B%E1%BB%8B-%C4%90i%E1%BB%87n-T%E1%BB%AD-cat.11036132\")\n",
    "driver.maximize_window()\n",
    "sleep(2)"
   ]
  },
  {
   "cell_type": "code",
   "execution_count": 21,
   "id": "f9be8ba3",
   "metadata": {},
   "outputs": [
    {
     "name": "stdout",
     "output_type": "stream",
     "text": [
      "https://shopee.vn/Tai-nghe-ch%E1%BB%A5p-tai-kh%C3%B4ng-d%C3%A2y-bluetooth-STN28-m%C3%A0u-s%E1%BA%AFc-cute-%C3%A2m-thanh-%E1%BA%A5m-bass-m%E1%BA%A1nh-Ph%E1%BB%A5-Ki%E1%BB%87n-123-i.304853378.4466113256?sp_atk=cf9a7140-ba45-493c-baca-3d4c2891dbcb&xptdk=cf9a7140-ba45-493c-baca-3d4c2891dbcb\n",
      "https://shopee.vn/Loa-bluetooth-mini-kh%C3%B4ng-d%C3%A2y-nghe-nh%E1%BA%A1c-c%E1%BA%AFm-usb-th%E1%BA%BB-nh%E1%BB%9B-%C4%91a-n%C4%83ng-c%C3%B3-%C4%91%C3%A8n-led-ch%C3%ADnh-h%C3%A3ng-MINPRO-i.394963411.17470212612?sp_atk=d8999acd-5241-49dc-ac6c-0fc47bed308e&xptdk=d8999acd-5241-49dc-ac6c-0fc47bed308e\n",
      "https://shopee.vn/%C4%90%E1%BB%93ng-h%E1%BB%93-%C4%91%C3%B4i-%C4%90i%E1%BB%87n-T%E1%BB%AD-Th%E1%BB%83-Thao-Th%C3%B4ng-Minh-B%E1%BA%B1ng-Silicon-C%C3%B3-%C4%90%C3%A8n-LED-Th%E1%BB%9Di-Trang-Cho-Nam-V%C3%A0-N%E1%BB%AF-i.821816160.21527023571?sp_atk=6d686cda-d5e5-4bbc-a021-91f2cb783b73&xptdk=6d686cda-d5e5-4bbc-a021-91f2cb783b73\n",
      "https://shopee.vn/Qu%E1%BA%A1t-t%E1%BA%A3n-nhi%E1%BB%87t-G6-L%C3%A0m-m%C3%A1t-%C4%91i%E1%BB%87n-tho%E1%BA%A1i-Ph%E1%BB%A5-ki%E1%BB%87n-ch%C6%A1i-game-Pubg-Mobile-gi%C3%A1-r%E1%BA%BB-cho-%C4%91i%E1%BB%87n-tho%E1%BA%A1i-di-%C4%91%E1%BB%99ng-b%E1%BA%A3o-h%C3%A0nh-12-th%C3%A1ng-i.232085619.18251612533?sp_atk=9d470082-d5a1-4004-bb29-0b1431c46835&xptdk=9d470082-d5a1-4004-bb29-0b1431c46835\n",
      "https://shopee.vn/Tai-nghe-bluetooth-5.0-True-Wireless-Amoi-F9-Pro-b%E1%BA%A3n-qu%E1%BB%91c-t%E1%BA%BF-cao-c%E1%BA%A5p-c%E1%BA%A3m-bi%E1%BA%BFn-v%C3%A2n-tay-ki%C3%AAm-s%E1%BA%A1c-d%E1%BB%B1-ph%C3%B2ng-i.222814609.13996539492?sp_atk=75247a5f-46c9-4ca6-a418-d36e59f55a6e&xptdk=75247a5f-46c9-4ca6-a418-d36e59f55a6e\n",
      "https://shopee.vn/B%E1%BB%99-chuy%E1%BB%83n-%C3%A2m-thanh-quang-Optical-sang-AV-h%C3%A3ng-Choseal-B%E1%BA%A3n-cao-c%E1%BA%A5p-(-t%E1%BA%B7ng-d%C3%A2y-quang-d%C3%A0i-1m-)-i.28103128.7506698218?sp_atk=0f37b1a5-949c-422f-a014-cc44b8dafed3&xptdk=0f37b1a5-949c-422f-a014-cc44b8dafed3\n",
      "https://shopee.vn/%C4%90%E1%BB%93ng-H%E1%BB%93-Th%C3%B4ng-Minh-Y68-D20-Fitpro-IP67-Ch%E1%BB%91ng-Th%E1%BA%A5m-N%C6%B0%E1%BB%9Bc-1.44-i.752119753.20230691171?sp_atk=0ea28571-0d90-4797-929e-dd4fe41d61eb&xptdk=0ea28571-0d90-4797-929e-dd4fe41d61eb\n",
      "https://shopee.vn/Set-2-G%C4%83ng-%C4%90eo-Ng%C3%B3n-Tay-Ch%E1%BB%91ng-M%E1%BB%93-H%C3%B4i-Khi-Ch%C6%A1i-Game-PUBG-Tr%C3%AAn-%C4%90i%E1%BB%87n-Tho%E1%BA%A1i-M%C3%A1y-T%C3%ADnh-B%E1%BA%A3ng-i.233700206.19825790674?sp_atk=7aee6af5-22ee-4765-9623-6e8d212f3155&xptdk=7aee6af5-22ee-4765-9623-6e8d212f3155\n",
      "https://shopee.vn/Tai-nghe-Bluetooth-kh%C3%B4ng-d%C3%A2y-5.0-MINPRO-AMOI-F9-PRO-n%C3%BAt-c%E1%BA%A3m-bi%E1%BA%BFn-v%C3%A2n-tay-ch%E1%BB%91ng-n%C6%B0%E1%BB%9Bc-k%C3%A8m-s%E1%BA%A1c-2.000mAh-i.394963411.11598054765?sp_atk=213e5c03-68a8-4938-8910-f0f6b2a88873&xptdk=213e5c03-68a8-4938-8910-f0f6b2a88873\n",
      "https://shopee.vn/Gi%C3%A1-treo-tivi-c%E1%BB%91-%C4%91%E1%BB%8Bnh-h%E1%BB%97-tr%E1%BB%A3-k%C3%ADch-th%C6%B0%E1%BB%9Bc-TV-14-65-inch-%C4%91i-k%C3%A8m-%E1%BB%91c-v%C3%ADt-i.407509533.8829444691?sp_atk=0238415c-ac60-4e50-a54b-f3188a84fe36&xptdk=0238415c-ac60-4e50-a54b-f3188a84fe36\n",
      "https://shopee.vn/-B%C3%81N-GI%C3%81-G%E1%BB%90C-Loa-Bluetooth-CH%C3%8DNH-H%C3%83NG-SC211-%C3%82m-Thanh-Si%C3%AAu-Tr%E1%BA%A7m-i.170887396.4016737600?sp_atk=cd45a8e3-db14-4044-9bec-52142993a49a&xptdk=cd45a8e3-db14-4044-9bec-52142993a49a\n",
      "https://shopee.vn/Bao-tay-cho%CC%9Bi-game-Sonit%EF%BC%8CCh%E1%BB%91ng-M%E1%BB%93-H%C3%B4i-H%E1%BB%97-Tr%E1%BB%A3-Ch%C6%A1i-game-Tr%C3%AAn-%C4%90i%E1%BB%87n-Tho%E1%BA%A1i-i.618905470.19712842592?sp_atk=4dd3cbe1-43f3-4f65-902b-798f1041c5d6&xptdk=4dd3cbe1-43f3-4f65-902b-798f1041c5d6\n",
      "https://shopee.vn/Tai-Nghe-Bluetooth-M10-Pro-Tai-Nghe-Kh%C3%B4ng-M10-Pro-Phi%C3%AAn-B%E1%BA%A3n-N%C3%A2ng-C%E1%BA%A5p-Pin-Tr%C3%A2u-N%C3%BAt-C%E1%BA%A3m-%E1%BB%A8ng-T%E1%BB%B1-%C4%90%E1%BB%99ng-K%E1%BA%BFt-N%E1%BB%91i-BINTECH-i.222814609.18650023710?sp_atk=a1638a07-89f1-492f-bcf7-da4fab90787f&xptdk=a1638a07-89f1-492f-bcf7-da4fab90787f\n",
      "https://shopee.vn/D%C3%A2y-%C4%90eo-Thay-Th%E1%BA%BF-5-M%C3%A0u-B%E1%BA%B1ng-Silicon-M%E1%BB%81m-Cho-%C4%90%E1%BB%93ng-H%E1%BB%93-Th%C3%B4ng-Minh-Apple-Watch-Ultla-Series-8-7-6-SE-5-4-3-2-1-i.85966527.16114068715?sp_atk=05f3e536-8b0f-400d-a950-5c266147a9d1&xptdk=05f3e536-8b0f-400d-a950-5c266147a9d1\n",
      "https://shopee.vn/Loa-M%C3%A1y-T%C3%ADnh-Loa-%C4%90%E1%BB%83-B%C3%A0n-Mini-Nh%E1%BB%8F-G%E1%BB%8Dn-%C3%82m-Thanh-V%C6%B0%E1%BB%A3t-Tr%E1%BB%99i-Loa-vi-t%C3%ADnh-bass-hay-LMT01-i.478929960.8973255943?sp_atk=20980751-f66e-4ba1-ac25-a752d4375037&xptdk=20980751-f66e-4ba1-ac25-a752d4375037\n",
      "https://shopee.vn/Bao-Tay-Ch%C6%A1i-Game-ff-Pubg-Li%C3%AAn-Qu%C3%A2n....-G%C4%83ng-tay-ch%C6%A1i-game-Ch%E1%BB%91ng-M%E1%BB%93-H%C3%B4i-Co-Gi%C3%A3n-C%E1%BB%B1c-T%E1%BB%91t-i.618266867.12658908557?sp_atk=1291e855-44ac-44ae-bfab-4cea28bd2238&xptdk=1291e855-44ac-44ae-bfab-4cea28bd2238\n",
      "https://shopee.vn/Tai-Nghe-Bluetooth-Kh%C3%B4ng-D%C3%A2y-i7S-TWS-i.451212855.21032123850?sp_atk=83b6a68d-6168-404c-b8a6-952d2f7257a1&xptdk=83b6a68d-6168-404c-b8a6-952d2f7257a1\n",
      "https://shopee.vn/D%C3%A2y-%C4%90eo-Thay-Th%E1%BA%BF-B%E1%BA%B1ng-Silicone-Cho-Xiaomi-Mi-Band-3-4-3-4-i.231164390.17919025554?sp_atk=aedaf352-d359-4bd7-adae-f769f6a02718&xptdk=aedaf352-d359-4bd7-adae-f769f6a02718\n",
      "https://shopee.vn/(MI%E1%BB%84N-SHIP-TO%C3%80N-QU%E1%BB%90C)-X%E1%BA%A2-H%E1%BA%BET-KHO)-micro-cho-m%E1%BB%8Di-lo%E1%BA%A1i-loa-MICRO-CHO-LOA-K%C3%89O-BLUETOOTH-P88-P89-MICRO-d%C3%A0n-i.697521605.15190730746?sp_atk=68b7bc95-359a-4920-a10c-d1bf5260d58e&xptdk=68b7bc95-359a-4920-a10c-d1bf5260d58e\n",
      "https://shopee.vn/Micro-c%C3%B3-d%C3%A2y-karaoke-jack-6.5mm-nh%E1%BB%8F-g%E1%BB%8Dn-d%C3%B9ng-cho-loa-bluetooth-loa-di-%C4%91%E1%BB%99ng-i.74300615.7881192650?sp_atk=b3618ad6-af39-44eb-b8d7-ec2dc87f1ddf&xptdk=b3618ad6-af39-44eb-b8d7-ec2dc87f1ddf\n",
      "https://shopee.vn/Tai-Nghe-Gaming-X15-Bluetooth-5.1-Kh%C3%B4ng-D%C3%A2y-Gi%E1%BA%A3m-Ti%E1%BA%BFng-%E1%BB%92n-C%E1%BA%A3m-%E1%BB%A8ng-%C4%90i%E1%BB%81u-Khi%E1%BB%83n-V%C3%A2n-Tay-%C3%82m-Thanh-Hifi-9D-Cho-Android-i.53118009.21035621256?sp_atk=78a958f7-1967-466d-8698-5d8b324f748a&xptdk=78a958f7-1967-466d-8698-5d8b324f748a\n",
      "https://shopee.vn/B%E1%BB%99-b%E1%BA%A3o-v%E1%BB%87-c%C3%A1p-s%E1%BA%A1c-c%E1%BB%A7-s%E1%BA%A1c-s%E1%BB%AD-d%E1%BB%A5ng-cho-for-Apple-12-for-iPhone14-Pro-Max-13-Pro-Max-12-11promax-18W-20W-i.111008228.10480471166?sp_atk=25e3193b-2b81-46ec-8e23-cdb4279559e1&xptdk=25e3193b-2b81-46ec-8e23-cdb4279559e1\n",
      "https://shopee.vn/Loa-m%C3%A1y-t%C3%ADnh-laptop-vi-t%C3%ADnh-mini-MC-V-128-%C3%A2m-Bass-Tr%E1%BA%A7m-n%E1%BB%95i-loa-di-%C4%91%E1%BB%99ng-Eagle-Eye-d%C3%B9ng-cho-gi%E1%BA%AFc-c%E1%BA%AFm-%C3%A2m-thanh-3.5MM-i.228841194.9166684648?sp_atk=3a6fedb2-b306-4172-b90f-fe58e6b5fdda&xptdk=3a6fedb2-b306-4172-b90f-fe58e6b5fdda\n",
      "https://shopee.vn/%E1%BB%90p-h%E1%BB%99p-s%E1%BA%A1c-tai-nghe-kh%C3%B4ng-d%C3%A2y-silicon-ch%E1%BB%91ng-s%E1%BB%91c-cho-Airpods-1-2-i.129732304.7791390740?sp_atk=2e42d9ff-02d1-4902-9ab0-b86d64676a7f&xptdk=2e42d9ff-02d1-4902-9ab0-b86d64676a7f\n",
      "https://shopee.vn/Tai-Nghe-Bluetooth-Kh%C3%B4ng-D%C3%A2y-TWS-12-M%C3%A0u-S%E1%BA%AFc-K%C3%A8m-H%E1%BB%99p-S%E1%BA%A1c-i.178575628.18328630050?sp_atk=0ff01e00-bb58-4171-8c8d-8d0bd9c2551f&xptdk=0ff01e00-bb58-4171-8c8d-8d0bd9c2551f\n",
      "https://shopee.vn/K%C3%ADnh-c%C6%B0%E1%BB%9Dng-l%E1%BB%B1c-d%E1%BA%BBo-4D-b%E1%BA%A3o-v%E1%BB%87-Apple-Watch-Seri-6-5-4-3-2-1-MACSHOCK-i.16660657.7067709467?sp_atk=7f150e17-d6e5-4855-aaa6-e076720c3f31&xptdk=7f150e17-d6e5-4855-aaa6-e076720c3f31\n",
      "https://shopee.vn/Loa-bluetooth-GOOJODOQ-kh%C3%B4ng-d%C3%A2y-c%C3%B3-%C4%91%C3%A8n-LED-nhi%E1%BB%81u-m%C3%A0u-s%E1%BA%AFc-i.166333877.19857778380?sp_atk=beaa5ddb-5f51-4098-8c9d-de0d6e1dc11b&xptdk=beaa5ddb-5f51-4098-8c9d-de0d6e1dc11b\n",
      "https://shopee.vn/Bao-Tay-Ch%C6%A1i-Game-ff-Pubg-Li%C3%AAn-Qu%C3%A2n....-G%C4%83ng-tay-ch%C6%A1i-game-Ch%E1%BB%91ng-M%E1%BB%93-H%C3%B4i-Si%C3%AAu-Nh%E1%BA%A1y-Co-Gi%C3%A3n-C%E1%BB%B1c-T%E1%BB%91t-B%E1%BA%B1ng-S%E1%BB%A3i-Carbon-i.80267699.12433892151?sp_atk=230dd20c-9e90-4c93-8d94-77078828e666&xptdk=230dd20c-9e90-4c93-8d94-77078828e666\n",
      "https://shopee.vn/Tai-nghe-Bluetooth-c%C3%B3-d%C3%A2y-v%C3%A0-mic-cao-c%E1%BA%A5p-cho-t%C3%A1o-7-8-Plus-X-XR-XS-Max-11-12-13-Pro-SE-i.510970183.10077584209?sp_atk=6b6ea920-7f45-4ac6-b1c9-d549ec3bd166&xptdk=6b6ea920-7f45-4ac6-b1c9-d549ec3bd166\n",
      "https://shopee.vn/K%C3%ADnh-th%E1%BB%B1c-t%E1%BA%BF-%E1%BA%A3o-Vr-Shinecon-G06E-G06-G10-H%E1%BB%93-Ph%E1%BA%A1m-i.3064018.399188377?sp_atk=6eefae2e-af03-4f5c-adb5-64472d806cce&xptdk=6eefae2e-af03-4f5c-adb5-64472d806cce\n",
      "https://shopee.vn/Loa-bluetooth-SSR-Charge-3-V5.0-loa-mini-kh%C3%B4ng-d%C3%A2y-pin-kh%E1%BB%A7ng-%C3%A2m-cc%E1%BB%B1c-hay-i.181087642.3681130972?sp_atk=7a5ad9f6-ebe7-45f8-8dd9-8e5c4e469dc5&xptdk=7a5ad9f6-ebe7-45f8-8dd9-8e5c4e469dc5\n",
      "https://shopee.vn/D%C3%A2y-%C4%90eo-Inox-Milanese-Cho-%C4%90%E1%BB%93ng-H%E1%BB%93-Th%C3%B4ng-Minh-Apple-Watch-38-40-41mm-42-44-45mm-7-6-5-4-3-2-1-6-Se-Series-T500-i.409544318.21928403701?sp_atk=8179af01-d056-4703-8938-4b48850e98c7&xptdk=8179af01-d056-4703-8938-4b48850e98c7\n",
      "https://shopee.vn/Tai-nghe-kh%C3%B4ng-d%C3%A2y-Bluetooth-TWS-AMoi-F9-Pro-Ch%E1%BB%91ng-n%C6%B0%E1%BB%9Bc-IP67-Pin-2000maH-D%C3%B9ng-600-ti%E1%BA%BFng-i.131085332.5466182451?sp_atk=6d6d4ce5-46e6-4cc0-9846-662c99bddc15&xptdk=6d6d4ce5-46e6-4cc0-9846-662c99bddc15\n"
     ]
    },
    {
     "name": "stdout",
     "output_type": "stream",
     "text": [
      "https://shopee.vn/%C4%90%E1%BB%93ng-H%E1%BB%93-%C4%90eo-Tay-M%C3%A0n-H%C3%ACnh-LED-C%E1%BA%A3m-%E1%BB%A8ng-Ch%E1%BB%91ng-N%C6%B0%E1%BB%9Bc-i.74804504.3255146326?sp_atk=d94fd8d5-84b2-4597-b3cf-5dd10fa530da&xptdk=d94fd8d5-84b2-4597-b3cf-5dd10fa530da\n",
      "https://shopee.vn/Set-2-G%C4%83ng-B%E1%BB%8Dc-Ng%C3%B3n-Tay-Ch%E1%BB%91ng-%C4%90%E1%BB%95-M%E1%BB%93-H%C3%B4i-Khi-Ch%C6%A1i-Game-i.63637734.8165870944?sp_atk=13f40f27-a85c-4260-8fb3-5e4fc06d2f9a&xptdk=13f40f27-a85c-4260-8fb3-5e4fc06d2f9a\n",
      "https://shopee.vn/D%C3%A2y-%C4%90eo-Thay-Th%E1%BA%BF-Ch%E1%BA%A5t-Li%E1%BB%87u-Silicon-Nhi%E1%BB%81u-M%C3%A0u-Cho-Xiaomi-Mi-Band-3-4-5-6-7-i.320062986.6261097580?sp_atk=0bac6011-3743-41da-864e-48039bfe99ac&xptdk=0bac6011-3743-41da-864e-48039bfe99ac\n",
      "https://shopee.vn/Tai-nghe-Kh%C3%B4ng-d%C3%A2y-Amoi-F9-F9-pro-Bluetooth-5.3-Pin-280-gi%E1%BB%9D-Ch%E1%BB%91ng-n%C6%B0%E1%BB%9Bc-IPX7-i.131085332.5566027063?sp_atk=ea0cf1ff-f26f-4d3e-90c7-ebbdeea36e63&xptdk=ea0cf1ff-f26f-4d3e-90c7-ebbdeea36e63\n",
      "https://shopee.vn/Loa-Bluetooth-Mini-CL90-%C3%82m-Thanh-S%E1%BB%91ng-%C4%90%E1%BB%99ng-Pin-Tr%C3%A2u-T%C3%ADch-H%E1%BB%A3p-Th%E1%BA%BB-Nh%E1%BB%9B-Nghe-Nh%E1%BA%A1c-C%E1%BB%B1c-Hay-B%E1%BA%A3o-H%C3%A0nh-1-N%C4%83m-i.232085619.20817867398?sp_atk=3bc950c9-08a2-4431-b34b-dbe43e5d4cc3&xptdk=3bc950c9-08a2-4431-b34b-dbe43e5d4cc3\n",
      "https://shopee.vn/Tay-c%E1%BA%A7m-cho-PC-Xbox-360-SF1-%C4%91%C3%A8n-v%C3%A0ng-FullSkill-Fifa-4-H%E1%BB%97-tr%E1%BB%A3-Android-TV-Box-Smart-TV-Smartphone-Support-OTG-i.278247117.12633790963?sp_atk=76583d62-c44c-4525-b601-d267f2839ed2&xptdk=76583d62-c44c-4525-b601-d267f2839ed2\n",
      "https://shopee.vn/C%C6%B0%E1%BB%9Dng-L%E1%BB%B1c-D%E1%BA%BBo-Apple-Watch-D%C3%A1n-B%E1%BA%A3o-V%E1%BB%87-Apple-Watch-Series-1-2-3-4-5-6-7-SE-Full-Size-38-40-42-44-41-45MM-Shappy-Shop--i.74181965.5737003786?sp_atk=2436aceb-6249-4aea-8dac-c6c9167cceef&xptdk=2436aceb-6249-4aea-8dac-c6c9167cceef\n",
      "https://shopee.vn/Tai-nghe-nh%C3%A9t-tai-c%C3%B3-d%C3%A2y-MINPRO-M25-gi%E1%BA%AFc-c%E1%BA%AFm-3.5mm-ch%E1%BB%91ng-%E1%BB%93n-t%C3%ADch-h%E1%BB%A3p-micro-d%C3%A0nh-cho-%C4%91i%E1%BB%87n-tho%E1%BA%A1i-i.394963411.19908266555?sp_atk=a6e83630-7288-4108-a1cb-791b559db7f2&xptdk=a6e83630-7288-4108-a1cb-791b559db7f2\n",
      "https://shopee.vn/Loa-m%C3%A1y-t%C3%ADnh-c%C3%B4ng-xu%E1%BA%A5t-l%E1%BB%9Bn-h%C3%A0ng-ch%C3%ADnh-h%C3%A3ng-c%C3%B3-k%E1%BA%BFt-n%E1%BB%91i-Bluetooth-U92341-i.871503098.16587753520?sp_atk=07ad1978-9962-4b2f-aa64-3ebfd8622740&xptdk=07ad1978-9962-4b2f-aa64-3ebfd8622740\n",
      "https://shopee.vn/Tay-c%E1%BA%A7m-ch%C6%A1i-game-fifa-online-4-Microsoft-Xbox-360-Full-Box-Co%CC%81-Rung-Tay-C%C3%A2%CC%80m-fo4-c%C3%B3-d%C3%A2y-PC-Laptop-full-skill-all-Game-i.411071213.9732676148?sp_atk=febb5594-e372-4c8d-995f-0ea87be4a209&xptdk=febb5594-e372-4c8d-995f-0ea87be4a209\n",
      "https://shopee.vn/D%C3%A2y-Da-Thay-Th%E1%BA%BF-Cho-%C4%90%E1%BB%93Ng-H%E1%BB%93-%C4%90eo-Tay-Th%C3%B4ng-Minh-Ultra-8-7-6-SE-5-4-3-2-1-49mm-41mm-45mm-44mm-42mm-40mm-38mm-i.213242511.12502791844?sp_atk=90f483ca-2f39-4fed-95ea-3a4e65b4ded1&xptdk=90f483ca-2f39-4fed-95ea-3a4e65b4ded1\n",
      "https://shopee.vn/Tai-Nghe-Bluetooth-J12-TWS-5.0-C%C3%B3-Micro-Kh%C3%B4ng-D%C3%A2y-Nghe-G%E1%BB%8Di-Thanh-S%E1%BB%91ng-%C4%90%E1%BB%99ng-K%E1%BA%BFt-N%E1%BB%91i-M%E1%BA%A1nh-M%E1%BA%BD-J12_Trang-i.530687160.20429364010?sp_atk=7d8866d6-9ac0-4dff-8187-a64a18b5bc7b&xptdk=7d8866d6-9ac0-4dff-8187-a64a18b5bc7b\n",
      "https://shopee.vn/Loa-M%C3%A1y-T%C3%ADnh-Gaming-C%E1%BA%AFm-Ngu%E1%BB%93n-USB-Hi%E1%BB%87u-%E1%BB%A8ng-%C4%90%C3%A8n-LED-%C3%82m-Thanh-HD-Ch%E1%BA%A5t-L%C6%B0%E1%BB%A3ng-Cao-ADP1046-101Z-i.16454949.20703577083?sp_atk=a0fd1a9a-7812-470a-bfbc-ace28e53251e&xptdk=a0fd1a9a-7812-470a-bfbc-ace28e53251e\n",
      "https://shopee.vn/%F0%9F%92%98-G%C4%83ng-tay-ch%C6%A1i-game-FF-PUPG...-Bao-tay-gaming-ch%E1%BB%91ng-m%E1%BB%93-h%C3%B4i-Tay-ch%C6%A1i-game-s%E1%BB%A3i-b%E1%BA%A1c-kim-cao-c%E1%BA%A5p-t%E1%BA%A1i-HN-i.611860170.14017081863?sp_atk=50c41104-8615-4f5d-920e-c4e499b7610e&xptdk=50c41104-8615-4f5d-920e-c4e499b7610e\n",
      "https://shopee.vn/-R%E1%BA%BA-V%C3%94-%C4%90%E1%BB%8ACH-%C4%90%E1%BB%93ng-h%E1%BB%93-Disney-Mickey-Zgo-silicon-%C4%90%E1%BB%A6-M%E1%BA%AAU-nam-n%E1%BB%AF-unisex-tr%E1%BA%BB-em-th%E1%BB%83-thao-ch%E1%BB%91ng-n%C6%B0%E1%BB%9Bc%C4%91%C3%A8n-led-m%E1%BA%ABu-m%E1%BB%9Bi-hot-hit-i.203758329.8505764820?sp_atk=521170db-f729-4c3c-b6b8-425e70ec1d21&xptdk=521170db-f729-4c3c-b6b8-425e70ec1d21\n",
      "https://shopee.vn/Ele%E3%80%91-gi%C3%A1-r%E1%BA%BB-Tai-nghe-ch%C3%ADnh-h%C3%A3ng-th%C3%ADch-h%E1%BB%A3p-1-n%C4%83m-freeship-i.78487117.7032509234?sp_atk=eb839241-ba7a-4e66-9d75-c8d96fee0cc8&xptdk=eb839241-ba7a-4e66-9d75-c8d96fee0cc8\n",
      "https://shopee.vn/-C%C3%B3-Clip-S%E1%BA%A3n-Ph%E1%BA%A9m-Loa-K%C3%A9o-Karaoke-Bluetooth-P88-P89-KIOMIC-%C3%82m-Thanh-C%E1%BB%B1c-%C4%90%E1%BB%89nh-Pin-S%E1%BA%A1c-Ti%E1%BB%87n-L%E1%BB%A3i-T%E1%BA%B7ng-Micro-H%C3%A1t-C%E1%BB%B1c-Hay-i.181932543.2877202925?sp_atk=13b8e76c-6599-4073-b6dd-0fedad7aea0a&xptdk=13b8e76c-6599-4073-b6dd-0fedad7aea0a\n",
      "https://shopee.vn/M%C3%BAt-ti%C3%AAu-%C3%A2m-m%C3%BAt-c%C3%A1ch-%C3%A2m-M%C3%BAt-tr%E1%BB%A9ng-m%C3%BAt-n%E1%BA%A5m-ch%E1%BB%91ng-ch%C3%A1y-m%C3%BAt-l%E1%BB%A5c-gi%C3%A1c-trang-tr%C3%AD-ti%C3%AAu-%C3%A2m-i.125123054.5207367519?sp_atk=504a9dc6-4ffb-4127-8861-1a49fb3f140b&xptdk=504a9dc6-4ffb-4127-8861-1a49fb3f140b\n",
      "https://shopee.vn/%C4%90%E1%BB%93ng-H%E1%BB%93-Th%C3%B4ng-Minh-Vitog-Y68-Ch%E1%BB%91ng-N%C6%B0%E1%BB%9Bc-H%E1%BB%97-Tr%E1%BB%A3-Theo-D%C3%B5i-S%E1%BB%A9c-Kh%E1%BB%8Fe-K%C3%A8m-Ph%E1%BB%A5-Ki%E1%BB%87n-Ch%E1%BA%A5t-L%C6%B0%E1%BB%A3ng-Cao-i.159527404.5919379765?sp_atk=53d64f9c-e779-4c89-8c8f-617f08760878&xptdk=53d64f9c-e779-4c89-8c8f-617f08760878\n",
      "https://shopee.vn/Tai-Nghe-Bluetooth-Kh%C3%B4ng-D%C3%A2y-I7S-Tws-Ph%C3%B9-H%E1%BB%A3p-V%E1%BB%9Bi-Android-IOS-i.451212855.15182718465?sp_atk=0d08cb63-e6d9-43d9-b849-4994e46da439&xptdk=0d08cb63-e6d9-43d9-b849-4994e46da439\n",
      "https://shopee.vn/Loa-bluetooth-%C4%91%E1%BB%93ng-h%E1%BB%93-G5-loa-mini-kh%C3%B4ng-d%C3%A2y-nghe-nh%E1%BA%A1c-l%C3%A0m-%C4%91%C3%A8n-ng%E1%BB%A7-m%C3%A0n-h%C3%ACnh-soi-g%C6%B0%C6%A1ng-i.98401019.6610329362?sp_atk=da4b66ee-1c11-4605-b479-0cbcb17b1932&xptdk=da4b66ee-1c11-4605-b479-0cbcb17b1932\n",
      "https://shopee.vn/G%C4%83ng-tay-ch%C6%A1i-game-ff-Pubg-Li%C3%AAn-Qu%C3%A2n-Bao-Tay-Ch%C6%A1i-Game-Ch%E1%BB%91ng-M%E1%BB%93-H%C3%B4i-Si%C3%AAu-Nh%E1%BA%A1y-Co-Gi%C3%A3n-C%E1%BB%B1c-T%E1%BB%91t-B%E1%BA%A3o-H%C3%A0nh-12-Th%C3%A1ng-i.232085619.8285555441?sp_atk=929f8e8b-2a6e-4835-b596-a709a53071a3&xptdk=929f8e8b-2a6e-4835-b596-a709a53071a3\n",
      "https://shopee.vn/HDMI-to-VGA-C%C3%A1p-Chuy%E1%BB%83n-HDMI-sang-VGA-Cho-PC-laptop-M%C3%A1y-Chi%E1%BA%BFu-Cao-C%E1%BA%A5p-%C4%90%E1%BB%99-D%C3%A0i-20CM-i.466896554.10813802354?sp_atk=64fb20b2-7fe8-4486-9493-03296e0984e7&xptdk=64fb20b2-7fe8-4486-9493-03296e0984e7\n",
      "https://shopee.vn/Tai-Nghe-M%C3%A8o-P47M.-Mz47-Bluetooth-Ch%E1%BB%A5p-Tai-Headphone-P47m-D%E1%BB%85-Th%C6%B0%C6%A1ng-C%C3%B3-Mic-%C3%82m-Bass-M%E1%BA%A1nh-M%E1%BA%BD-Dung-L%C6%B0%E1%BB%A3ng-Pin-Tr%C3%A2u-i.186608798.20022102716?sp_atk=b3420613-c9f4-4dc4-9ba1-17799a00b1bd&xptdk=b3420613-c9f4-4dc4-9ba1-17799a00b1bd\n",
      "https://shopee.vn/USB-T%E1%BA%A1o-Bluetooth-Chuy%C3%AA%CC%89n-Loa-Th%C6%B0%C6%A1%CC%80ng-Tha%CC%80nh-Loa-Bluetooth-i.118899185.1926401414?sp_atk=01dbce3d-1e80-4109-96cb-80038bcd0074&xptdk=01dbce3d-1e80-4109-96cb-80038bcd0074\n",
      "https://shopee.vn/Tay-c%E1%BA%A7m-ch%C6%A1i-game-cho-PC-Laptop-c%E1%BB%95ng-USB-%C4%91en-(c%C3%B3-g%E1%BA%A1t-Analog-v%C3%A0-c%C3%B3-rung)-dc2538-i.3932239.996677546?sp_atk=7910849a-73a2-4631-91b9-d7dd702591b3&xptdk=7910849a-73a2-4631-91b9-d7dd702591b3\n",
      "https://shopee.vn/%C4%90%E1%BB%93ng-H%E1%BB%93-Th%C3%B4ng-Minh-Q12-%C4%90%E1%BB%8Bnh-V%E1%BB%8B-LBS-d%C3%A0nh-cho-b%C3%A9-(c%C3%B3-camera)-1.44-inch-ch%E1%BB%91ng-n%C6%B0%E1%BB%9Bc-IP67-cu%E1%BB%99c-goi-SOS-kh%E1%BA%A9n-c%E1%BA%A5p-i.63274645.6123157252?sp_atk=83465870-c987-4f0c-8207-ac498d182b2a&xptdk=83465870-c987-4f0c-8207-ac498d182b2a\n",
      "60\n"
     ]
    }
   ],
   "source": [
    "shopeeList = set()\n",
    "yScroll=1000\n",
    "for i in range(5):\n",
    "    yScroll+=1000\n",
    "    driver.execute_script('window.scrollTo(0,'+str(yScroll)+');')\n",
    "    sleep(1)\n",
    "\n",
    "itemList = driver.find_elements(By.XPATH,\"//a[@data-sqe='link']\")\n",
    "for item in itemList:\n",
    "    print(item.get_attribute('href'))\n",
    "    shopeeList.add(item.get_attribute('href'))\n",
    "    \n",
    "print(len(shopeeList))"
   ]
  },
  {
   "cell_type": "code",
   "execution_count": null,
   "id": "4a364201",
   "metadata": {},
   "outputs": [],
   "source": [
    "shopeeList\n"
   ]
  },
  {
   "cell_type": "code",
   "execution_count": null,
   "id": "e9c407f7",
   "metadata": {},
   "outputs": [],
   "source": []
  }
 ],
 "metadata": {
  "kernelspec": {
   "display_name": "Python 3.8.10 64-bit",
   "language": "python",
   "name": "python3"
  },
  "language_info": {
   "codemirror_mode": {
    "name": "ipython",
    "version": 3
   },
   "file_extension": ".py",
   "mimetype": "text/x-python",
   "name": "python",
   "nbconvert_exporter": "python",
   "pygments_lexer": "ipython3",
   "version": "3.8.10"
  },
  "vscode": {
   "interpreter": {
    "hash": "916dbcbb3f70747c44a77c7bcd40155683ae19c65e1c03b4aa3499c5328201f1"
   }
  }
 },
 "nbformat": 4,
 "nbformat_minor": 5
}
